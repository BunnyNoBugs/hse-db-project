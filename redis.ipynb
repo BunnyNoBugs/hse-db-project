{
 "cells": [
  {
   "cell_type": "code",
   "execution_count": 307,
   "metadata": {},
   "outputs": [],
   "source": [
    "import redis"
   ]
  },
  {
   "cell_type": "code",
   "execution_count": 308,
   "metadata": {},
   "outputs": [],
   "source": [
    "r = redis.Redis(host='localhost', port=6379, db=0)"
   ]
  },
  {
   "cell_type": "code",
   "execution_count": 309,
   "metadata": {},
   "outputs": [
    {
     "data": {
      "text/plain": [
       "True"
      ]
     },
     "execution_count": 309,
     "metadata": {},
     "output_type": "execute_result"
    }
   ],
   "source": [
    "r.flushdb()"
   ]
  },
  {
   "cell_type": "code",
   "execution_count": 310,
   "metadata": {},
   "outputs": [],
   "source": [
    "from ipywidgets import HTML\n",
    "from IPython.display import display#, HTML\n",
    "\n",
    "def show_redis_data(r):\n",
    "    html = HTML()\n",
    "    out = '<table border=\"1\">'\n",
    "    for key in r.keys():\n",
    "        t = r.type(key).decode()\n",
    "#         print(key.decode(), t)\n",
    "        \n",
    "        if t == 'string':\n",
    "            data = r.get(key)\n",
    "            out += f'<tr><td style=\"padding:3px;width:150px;\">{key.decode()}</td>'\\\n",
    "                   f'<td style=\"padding:3px;width:50px;\">string</td>'\\\n",
    "                   f'<td style=\"padding:3px;\">{data.decode()}</td></tr>'\n",
    "        elif t == 'list':\n",
    "            l = r.llen(key)\n",
    "            data = r.lrange(key, 0, l)\n",
    "            out += f'<tr><td style=\"padding:3px;width:150px;\">{key.decode()}</td>'\\\n",
    "                   f'<td style=\"padding:3px;width:50px;\">list</td>'\\\n",
    "                   f'<td style=\"padding:3px;\">[{\", \".join([d.decode() for d in data])}]</td></tr>'\n",
    "        elif t == 'hash':\n",
    "            data = []\n",
    "            for key2 in r.hkeys(key):\n",
    "                data.append(f'{key2.decode()}: {r.hget(key, key2).decode()}')\n",
    "            out += f'<tr><td style=\"padding:3px;width:150px;\">{key.decode()}</td>'\\\n",
    "                   f'<td style=\"padding:3px;width:50px;\">hash</td>'\\\n",
    "                   f'<td style=\"padding:3px;\">{{{\", \".join(data)}}}</td></tr>'\n",
    "        elif t == 'set':\n",
    "            data = r.smembers(key)\n",
    "            out += f'<tr><td style=\"padding:3px;width:150px;\">{key.decode()}</td>'\\\n",
    "                   f'<td style=\"padding:3px;width:50px;\">set</td>'\\\n",
    "                   f'<td style=\"padding:3px;\">({\", \".join([d.decode() for d in data])})</td></tr>'\n",
    "        \n",
    "    out += '</table>'\n",
    "    \n",
    "    html.value = out\n",
    "    display(html)"
   ]
  },
  {
   "cell_type": "code",
   "execution_count": 311,
   "metadata": {},
   "outputs": [],
   "source": [
    "def add_participants(participants):\n",
    "    for _id, desc in participants.items():\n",
    "        r.sadd('participants_ids', _id)\n",
    "        r.hset(_id, mapping=desc)"
   ]
  },
  {
   "cell_type": "code",
   "execution_count": 312,
   "metadata": {},
   "outputs": [],
   "source": [
    "participants = {\n",
    "    'participant_0': {'team': 'google', 'model_name': 'bert'},\n",
    "    'participant_1': {'team': 'hse', 'model_name': 'hsert'},\n",
    "    'participant_2': {'team': 'sber', 'model_name': 'sbert'},\n",
    "    'participant_3': {'team': 'incognito', 'model_name': 'super_rules'}\n",
    "}"
   ]
  },
  {
   "cell_type": "code",
   "execution_count": 313,
   "metadata": {},
   "outputs": [],
   "source": [
    "add_participants(participants)"
   ]
  },
  {
   "cell_type": "code",
   "execution_count": 314,
   "metadata": {},
   "outputs": [
    {
     "data": {
      "application/vnd.jupyter.widget-view+json": {
       "model_id": "85c108bf0a044199befafc5d438966ee",
       "version_major": 2,
       "version_minor": 0
      },
      "text/plain": [
       "HTML(value='<table border=\"1\"><tr><td style=\"padding:3px;width:150px;\">participant_0</td><td style=\"padding:3p…"
      ]
     },
     "metadata": {},
     "output_type": "display_data"
    }
   ],
   "source": [
    "show_redis_data(r)"
   ]
  },
  {
   "cell_type": "code",
   "execution_count": 315,
   "metadata": {},
   "outputs": [],
   "source": [
    "scores = {\n",
    "    'participant_0': 96,\n",
    "    'participant_1': 97,\n",
    "    'participant_2': 93\n",
    "}"
   ]
  },
  {
   "cell_type": "code",
   "execution_count": 316,
   "metadata": {},
   "outputs": [],
   "source": [
    "def add_scores(scores):\n",
    "    r.zadd('leaderboard', scores)"
   ]
  },
  {
   "cell_type": "code",
   "execution_count": 317,
   "metadata": {},
   "outputs": [],
   "source": [
    "add_scores(scores)"
   ]
  },
  {
   "cell_type": "code",
   "execution_count": 322,
   "metadata": {},
   "outputs": [
    {
     "data": {
      "text/plain": [
       "[(b'participant_3', 65.0),\n",
       " (b'participant_2', 93.0),\n",
       " (b'participant_0', 96.0),\n",
       " (b'participant_1', 97.0)]"
      ]
     },
     "execution_count": 322,
     "metadata": {},
     "output_type": "execute_result"
    }
   ],
   "source": [
    "r.zrange('leaderboard', 0, -1, withscores=True)"
   ]
  },
  {
   "cell_type": "code",
   "execution_count": 319,
   "metadata": {},
   "outputs": [],
   "source": [
    "add_scores({'participant_3': 51})"
   ]
  },
  {
   "cell_type": "code",
   "execution_count": 321,
   "metadata": {},
   "outputs": [],
   "source": [
    "add_scores({'participant_3': 65})"
   ]
  },
  {
   "cell_type": "code",
   "execution_count": 327,
   "metadata": {},
   "outputs": [
    {
     "data": {
      "text/plain": [
       "[(b'participant_3', 65.0), (b'participant_0', 96.0), (b'participant_1', 97.0)]"
      ]
     },
     "execution_count": 327,
     "metadata": {},
     "output_type": "execute_result"
    }
   ],
   "source": [
    "r.zrange('leaderboard', 0, -1, withscores=True)"
   ]
  },
  {
   "cell_type": "code",
   "execution_count": 324,
   "metadata": {},
   "outputs": [
    {
     "data": {
      "text/plain": [
       "[(b'participant_1', 97.0), (b'participant_0', 96.0), (b'participant_2', 93.0)]"
      ]
     },
     "execution_count": 324,
     "metadata": {},
     "output_type": "execute_result"
    }
   ],
   "source": [
    "r.zrevrangebyscore('leaderboard', 100, 90, withscores=True)"
   ]
  },
  {
   "cell_type": "code",
   "execution_count": 325,
   "metadata": {},
   "outputs": [],
   "source": [
    "def remove_participants(participants):\n",
    "    for i in participants:\n",
    "        r.delete(i)\n",
    "        r.zrem('leaderboard', i)"
   ]
  },
  {
   "cell_type": "code",
   "execution_count": 326,
   "metadata": {},
   "outputs": [],
   "source": [
    "remove_participants(['participant_2'])"
   ]
  },
  {
   "cell_type": "code",
   "execution_count": 328,
   "metadata": {},
   "outputs": [],
   "source": [
    "def compute_average_score():\n",
    "    scores = dict(r.zrange('leaderboard', 0, -1, withscores=True)).values()\n",
    "    n_scores = r.zcard('leaderboard')\n",
    "    average = sum([float(s) for s in scores]) / n_scores\n",
    "    return average"
   ]
  },
  {
   "cell_type": "code",
   "execution_count": 329,
   "metadata": {},
   "outputs": [
    {
     "data": {
      "text/plain": [
       "86.0"
      ]
     },
     "execution_count": 329,
     "metadata": {},
     "output_type": "execute_result"
    }
   ],
   "source": [
    "compute_average_score()"
   ]
  },
  {
   "cell_type": "code",
   "execution_count": 299,
   "metadata": {},
   "outputs": [
    {
     "data": {
      "text/plain": [
       "[b'participant_3', b'participant_0', b'participant_1']"
      ]
     },
     "execution_count": 299,
     "metadata": {},
     "output_type": "execute_result"
    }
   ],
   "source": [
    "r.zrange('leaderboard', 0, -1)"
   ]
  },
  {
   "cell_type": "code",
   "execution_count": 330,
   "metadata": {},
   "outputs": [],
   "source": [
    "add_participants({'participant_4': {'team': 'mit', 'model_name': 'mit_rules'}})"
   ]
  },
  {
   "cell_type": "code",
   "execution_count": 331,
   "metadata": {},
   "outputs": [],
   "source": [
    "rules_scores = {\n",
    "    'participant_4': 35,\n",
    "    'participant_3': 70,\n",
    "    'participant_2': 42 \n",
    "}"
   ]
  },
  {
   "cell_type": "code",
   "execution_count": 332,
   "metadata": {},
   "outputs": [
    {
     "data": {
      "text/plain": [
       "3"
      ]
     },
     "execution_count": 332,
     "metadata": {},
     "output_type": "execute_result"
    }
   ],
   "source": [
    "r.zadd('rules_leaderboard', rules_scores)"
   ]
  },
  {
   "cell_type": "code",
   "execution_count": 333,
   "metadata": {},
   "outputs": [
    {
     "data": {
      "text/plain": [
       "[b'participant_4', b'participant_2', b'participant_3']"
      ]
     },
     "execution_count": 333,
     "metadata": {},
     "output_type": "execute_result"
    }
   ],
   "source": [
    "r.zrange('rules_leaderboard', 0, -1)"
   ]
  },
  {
   "cell_type": "code",
   "execution_count": 334,
   "metadata": {},
   "outputs": [
    {
     "data": {
      "text/plain": [
       "1"
      ]
     },
     "execution_count": 334,
     "metadata": {},
     "output_type": "execute_result"
    }
   ],
   "source": [
    "r.zinterstore('leaderboard_best', ['leaderboard', 'rules_leaderboard'], aggregate='MAX')"
   ]
  },
  {
   "cell_type": "code",
   "execution_count": 335,
   "metadata": {},
   "outputs": [
    {
     "data": {
      "text/plain": [
       "[(b'participant_3', 70.0)]"
      ]
     },
     "execution_count": 335,
     "metadata": {},
     "output_type": "execute_result"
    }
   ],
   "source": [
    "r.zrange('leaderboard_best', 0, -1, withscores=True)"
   ]
  },
  {
   "cell_type": "code",
   "execution_count": null,
   "metadata": {},
   "outputs": [],
   "source": []
  }
 ],
 "metadata": {
  "kernelspec": {
   "display_name": "Python 3 (ipykernel)",
   "language": "python",
   "name": "python3"
  },
  "language_info": {
   "codemirror_mode": {
    "name": "ipython",
    "version": 3
   },
   "file_extension": ".py",
   "mimetype": "text/x-python",
   "name": "python",
   "nbconvert_exporter": "python",
   "pygments_lexer": "ipython3",
   "version": "3.8.10"
  }
 },
 "nbformat": 4,
 "nbformat_minor": 4
}
