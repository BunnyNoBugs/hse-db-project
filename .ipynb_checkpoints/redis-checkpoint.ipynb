{
 "cells": [
  {
   "cell_type": "code",
   "execution_count": 1,
   "metadata": {},
   "outputs": [],
   "source": [
    "import redis"
   ]
  },
  {
   "cell_type": "code",
   "execution_count": 2,
   "metadata": {},
   "outputs": [],
   "source": [
    "r = redis.Redis(host='localhost', port=6379, db=0)"
   ]
  },
  {
   "cell_type": "code",
   "execution_count": 92,
   "metadata": {},
   "outputs": [
    {
     "data": {
      "text/plain": [
       "True"
      ]
     },
     "execution_count": 92,
     "metadata": {},
     "output_type": "execute_result"
    }
   ],
   "source": [
    "r.flushdb()"
   ]
  },
  {
   "cell_type": "code",
   "execution_count": 93,
   "metadata": {},
   "outputs": [],
   "source": [
    "from ipywidgets import HTML\n",
    "from IPython.display import display#, HTML\n",
    "\n",
    "def show_redis_data(r):\n",
    "    html = HTML()\n",
    "    out = '<table border=\"1\">'\n",
    "    for key in r.keys():\n",
    "        t = r.type(key).decode()\n",
    "#         print(key.decode(), t)\n",
    "        \n",
    "        if t == 'string':\n",
    "            data = r.get(key)\n",
    "            out += f'<tr><td style=\"padding:3px;width:150px;\">{key.decode()}</td>'\\\n",
    "                   f'<td style=\"padding:3px;width:50px;\">string</td>'\\\n",
    "                   f'<td style=\"padding:3px;\">{data.decode()}</td></tr>'\n",
    "        elif t == 'list':\n",
    "            l = r.llen(key)\n",
    "            data = r.lrange(key, 0, l)\n",
    "            out += f'<tr><td style=\"padding:3px;width:150px;\">{key.decode()}</td>'\\\n",
    "                   f'<td style=\"padding:3px;width:50px;\">list</td>'\\\n",
    "                   f'<td style=\"padding:3px;\">[{\", \".join([d.decode() for d in data])}]</td></tr>'\n",
    "        elif t == 'hash':\n",
    "            data = []\n",
    "            for key2 in r.hkeys(key):\n",
    "                data.append(f'{key2.decode()}: {r.hget(key, key2).decode()}')\n",
    "            out += f'<tr><td style=\"padding:3px;width:150px;\">{key.decode()}</td>'\\\n",
    "                   f'<td style=\"padding:3px;width:50px;\">hash</td>'\\\n",
    "                   f'<td style=\"padding:3px;\">{{{\", \".join(data)}}}</td></tr>'\n",
    "        elif t == 'set':\n",
    "            data = r.smembers(key)\n",
    "            out += f'<tr><td style=\"padding:3px;width:150px;\">{key.decode()}</td>'\\\n",
    "                   f'<td style=\"padding:3px;width:50px;\">set</td>'\\\n",
    "                   f'<td style=\"padding:3px;\">({\", \".join([d.decode() for d in data])})</td></tr>'\n",
    "        \n",
    "    out += '</table>'\n",
    "    \n",
    "    html.value = out\n",
    "    display(html)"
   ]
  },
  {
   "cell_type": "code",
   "execution_count": 94,
   "metadata": {},
   "outputs": [
    {
     "data": {
      "application/vnd.jupyter.widget-view+json": {
       "model_id": "01715c8b53ae4dcba9eed333baaefa10",
       "version_major": 2,
       "version_minor": 0
      },
      "text/plain": [
       "HTML(value='<table border=\"1\"></table>')"
      ]
     },
     "metadata": {},
     "output_type": "display_data"
    }
   ],
   "source": [
    "show_redis_data(r)"
   ]
  },
  {
   "cell_type": "code",
   "execution_count": 95,
   "metadata": {},
   "outputs": [
    {
     "data": {
      "application/vnd.jupyter.widget-view+json": {
       "model_id": "21142ec62af547dca4af35c1311c3e1b",
       "version_major": 2,
       "version_minor": 0
      },
      "text/plain": [
       "HTML(value='<table border=\"1\"></table>')"
      ]
     },
     "metadata": {},
     "output_type": "display_data"
    }
   ],
   "source": [
    "r.zadd('asdf', {'1': 1, '2': 2})\n",
    "show_redis_data(r)"
   ]
  },
  {
   "cell_type": "code",
   "execution_count": 96,
   "metadata": {},
   "outputs": [
    {
     "data": {
      "application/vnd.jupyter.widget-view+json": {
       "model_id": "4b70140cddba4a7a8c64ea11ad6c2500",
       "version_major": 2,
       "version_minor": 0
      },
      "text/plain": [
       "HTML(value='<table border=\"1\"></table>')"
      ]
     },
     "metadata": {},
     "output_type": "display_data"
    }
   ],
   "source": [
    "show_redis_data(r)"
   ]
  },
  {
   "cell_type": "code",
   "execution_count": 97,
   "metadata": {},
   "outputs": [
    {
     "data": {
      "text/plain": [
       "[(b'1', 1.0), (b'2', 2.0)]"
      ]
     },
     "execution_count": 97,
     "metadata": {},
     "output_type": "execute_result"
    }
   ],
   "source": [
    "r.zrange('asdf', 0, -1, withscores=True)"
   ]
  },
  {
   "cell_type": "code",
   "execution_count": 98,
   "metadata": {},
   "outputs": [
    {
     "data": {
      "text/plain": [
       "[b'asdf']"
      ]
     },
     "execution_count": 98,
     "metadata": {},
     "output_type": "execute_result"
    }
   ],
   "source": [
    "r.keys()"
   ]
  },
  {
   "cell_type": "code",
   "execution_count": 99,
   "metadata": {},
   "outputs": [],
   "source": [
    "def add_participants(participants):\n",
    "    for _id, desc in participants.items():\n",
    "        r.sadd('participants_ids', _id)\n",
    "        r.hset(_id, mapping=desc)"
   ]
  },
  {
   "cell_type": "code",
   "execution_count": 149,
   "metadata": {},
   "outputs": [],
   "source": [
    "participants = {\n",
    "    'participant_0': {'team': 'google', 'model_name': 'bert'},\n",
    "    'participant_1': {'team': 'hse', 'model_name': 'hsert'},\n",
    "    'participant_2': {'team': 'sber', 'model_name': 'sbert'},\n",
    "    'participant_3': {'team': 'ernie', 'model_name': 'super_rules'}\n",
    "}"
   ]
  },
  {
   "cell_type": "code",
   "execution_count": 150,
   "metadata": {},
   "outputs": [],
   "source": [
    "add_participants(participants)"
   ]
  },
  {
   "cell_type": "code",
   "execution_count": 222,
   "metadata": {},
   "outputs": [
    {
     "data": {
      "application/vnd.jupyter.widget-view+json": {
       "model_id": "2385121af8a34b72aee1d7c18ebb5919",
       "version_major": 2,
       "version_minor": 0
      },
      "text/plain": [
       "HTML(value='<table border=\"1\"><tr><td style=\"padding:3px;width:150px;\">participant_0</td><td style=\"padding:3p…"
      ]
     },
     "metadata": {},
     "output_type": "display_data"
    }
   ],
   "source": [
    "show_redis_data(r)"
   ]
  },
  {
   "cell_type": "code",
   "execution_count": 174,
   "metadata": {},
   "outputs": [],
   "source": [
    "scores = {\n",
    "    'participant_0': 96,\n",
    "    'participant_1': 97,\n",
    "    'participant_2': 93\n",
    "}"
   ]
  },
  {
   "cell_type": "code",
   "execution_count": 175,
   "metadata": {},
   "outputs": [],
   "source": [
    "def add_scores(scores):\n",
    "    r.zadd('leaderboard', scores)"
   ]
  },
  {
   "cell_type": "code",
   "execution_count": 176,
   "metadata": {},
   "outputs": [],
   "source": [
    "add_scores(scores)"
   ]
  },
  {
   "cell_type": "code",
   "execution_count": 177,
   "metadata": {},
   "outputs": [
    {
     "data": {
      "text/plain": [
       "[(b'participant_3', 51.0),\n",
       " (b'participant_2', 93.0),\n",
       " (b'participant_0', 96.0),\n",
       " (b'participant_1', 97.0)]"
      ]
     },
     "execution_count": 177,
     "metadata": {},
     "output_type": "execute_result"
    }
   ],
   "source": [
    "r.zrange('leaderboard', 0, -1, withscores=True)"
   ]
  },
  {
   "cell_type": "code",
   "execution_count": 178,
   "metadata": {},
   "outputs": [],
   "source": [
    "add_scores({'participant_3': 51})"
   ]
  },
  {
   "cell_type": "code",
   "execution_count": 179,
   "metadata": {},
   "outputs": [
    {
     "data": {
      "text/plain": [
       "[(b'participant_3', 51.0),\n",
       " (b'participant_2', 93.0),\n",
       " (b'participant_0', 96.0),\n",
       " (b'participant_1', 97.0)]"
      ]
     },
     "execution_count": 179,
     "metadata": {},
     "output_type": "execute_result"
    }
   ],
   "source": [
    "r.zrange('leaderboard', 0, -1, withscores=True)"
   ]
  },
  {
   "cell_type": "code",
   "execution_count": 180,
   "metadata": {},
   "outputs": [
    {
     "data": {
      "text/plain": [
       "[(b'participant_1', 97.0), (b'participant_0', 96.0), (b'participant_2', 93.0)]"
      ]
     },
     "execution_count": 180,
     "metadata": {},
     "output_type": "execute_result"
    }
   ],
   "source": [
    "r.zrevrangebyscore('leaderboard', 100, 90, withscores=True)"
   ]
  },
  {
   "cell_type": "code",
   "execution_count": 219,
   "metadata": {},
   "outputs": [],
   "source": [
    "def remove_participants(participants):\n",
    "    for i in participants:\n",
    "        r.delete(i)\n",
    "        r.zrem('leaderboard', i)"
   ]
  },
  {
   "cell_type": "code",
   "execution_count": 223,
   "metadata": {},
   "outputs": [],
   "source": [
    "remove_participants(['participant_2'])"
   ]
  },
  {
   "cell_type": "code",
   "execution_count": null,
   "metadata": {},
   "outputs": [],
   "source": [
    "def compute_average_score():\n",
    "    r"
   ]
  },
  {
   "cell_type": "code",
   "execution_count": null,
   "metadata": {},
   "outputs": [],
   "source": []
  }
 ],
 "metadata": {
  "kernelspec": {
   "display_name": "Python 3 (ipykernel)",
   "language": "python",
   "name": "python3"
  },
  "language_info": {
   "codemirror_mode": {
    "name": "ipython",
    "version": 3
   },
   "file_extension": ".py",
   "mimetype": "text/x-python",
   "name": "python",
   "nbconvert_exporter": "python",
   "pygments_lexer": "ipython3",
   "version": "3.8.10"
  }
 },
 "nbformat": 4,
 "nbformat_minor": 4
}
